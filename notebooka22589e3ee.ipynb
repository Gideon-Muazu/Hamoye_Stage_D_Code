{
 "cells": [
  {
   "cell_type": "code",
   "execution_count": 1,
   "id": "bce3be04",
   "metadata": {
    "execution": {
     "iopub.execute_input": "2023-07-17T16:54:51.048938Z",
     "iopub.status.busy": "2023-07-17T16:54:51.048606Z",
     "iopub.status.idle": "2023-07-17T16:55:00.554170Z",
     "shell.execute_reply": "2023-07-17T16:55:00.553240Z"
    },
    "papermill": {
     "duration": 9.518241,
     "end_time": "2023-07-17T16:55:00.556803",
     "exception": false,
     "start_time": "2023-07-17T16:54:51.038562",
     "status": "completed"
    },
    "tags": []
   },
   "outputs": [
    {
     "name": "stderr",
     "output_type": "stream",
     "text": [
      "/opt/conda/lib/python3.10/site-packages/scipy/__init__.py:146: UserWarning: A NumPy version >=1.16.5 and <1.23.0 is required for this version of SciPy (detected version 1.23.5\n",
      "  warnings.warn(f\"A NumPy version >={np_minversion} and <{np_maxversion}\"\n",
      "/opt/conda/lib/python3.10/site-packages/tensorflow_io/python/ops/__init__.py:98: UserWarning: unable to load libtensorflow_io_plugins.so: unable to open file: libtensorflow_io_plugins.so, from paths: ['/opt/conda/lib/python3.10/site-packages/tensorflow_io/python/ops/libtensorflow_io_plugins.so']\n",
      "caused by: ['/opt/conda/lib/python3.10/site-packages/tensorflow_io/python/ops/libtensorflow_io_plugins.so: undefined symbol: _ZN3tsl6StatusC1EN10tensorflow5error4CodeESt17basic_string_viewIcSt11char_traitsIcEENS_14SourceLocationE']\n",
      "  warnings.warn(f\"unable to load libtensorflow_io_plugins.so: {e}\")\n",
      "/opt/conda/lib/python3.10/site-packages/tensorflow_io/python/ops/__init__.py:104: UserWarning: file system plugins are not loaded: unable to open file: libtensorflow_io.so, from paths: ['/opt/conda/lib/python3.10/site-packages/tensorflow_io/python/ops/libtensorflow_io.so']\n",
      "caused by: ['/opt/conda/lib/python3.10/site-packages/tensorflow_io/python/ops/libtensorflow_io.so: undefined symbol: _ZTVN10tensorflow13GcsFileSystemE']\n",
      "  warnings.warn(f\"file system plugins are not loaded: {e}\")\n",
      "/opt/conda/lib/python3.10/site-packages/tensorflow_addons/utils/tfa_eol_msg.py:23: UserWarning: \n",
      "\n",
      "TensorFlow Addons (TFA) has ended development and introduction of new features.\n",
      "TFA has entered a minimal maintenance and release mode until a planned end of life in May 2024.\n",
      "Please modify downstream libraries to take dependencies from other repositories in our TensorFlow community (e.g. Keras, Keras-CV, and Keras-NLP). \n",
      "\n",
      "For more information see: https://github.com/tensorflow/addons/issues/2807 \n",
      "\n",
      "  warnings.warn(\n"
     ]
    }
   ],
   "source": [
    "import os\n",
    "import cv2\n",
    "import pandas as pd\n",
    "import numpy as np\n",
    "import gc\n",
    "import matplotlib.pyplot as plt\n",
    "from matplotlib.image import imread\n",
    "from sklearn.metrics import fbeta_score\n",
    "from tqdm import tqdm\n",
    "import tensorflow as tf\n",
    "from keras import optimizers\n",
    "from tensorflow.keras.models import Sequential \n",
    "from tensorflow.keras.preprocessing.image import ImageDataGenerator\n",
    "from tensorflow.keras.layers import Input , Dense , Dropout , Flatten,\\\n",
    "Conv2D,MaxPooling2D , BatchNormalization\n",
    "from keras.callbacks import ModelCheckpoint, EarlyStopping, ReduceLROnPlateau, History\n",
    "import tensorflow_addons as tfa"
   ]
  },
  {
   "cell_type": "code",
   "execution_count": 2,
   "id": "22ca8abe",
   "metadata": {
    "execution": {
     "iopub.execute_input": "2023-07-17T16:55:00.576653Z",
     "iopub.status.busy": "2023-07-17T16:55:00.575708Z",
     "iopub.status.idle": "2023-07-17T16:55:00.587875Z",
     "shell.execute_reply": "2023-07-17T16:55:00.587034Z"
    },
    "papermill": {
     "duration": 0.024058,
     "end_time": "2023-07-17T16:55:00.589865",
     "exception": false,
     "start_time": "2023-07-17T16:55:00.565807",
     "status": "completed"
    },
    "tags": []
   },
   "outputs": [
    {
     "data": {
      "text/plain": [
       "['planet', 'test-jpg-additional']"
      ]
     },
     "execution_count": 2,
     "metadata": {},
     "output_type": "execute_result"
    }
   ],
   "source": [
    "path = \"../input/planets-dataset/\"\n",
    "os.listdir(path)"
   ]
  },
  {
   "cell_type": "code",
   "execution_count": 3,
   "id": "38bd89bc",
   "metadata": {
    "execution": {
     "iopub.execute_input": "2023-07-17T16:55:00.609739Z",
     "iopub.status.busy": "2023-07-17T16:55:00.608725Z",
     "iopub.status.idle": "2023-07-17T16:55:00.687993Z",
     "shell.execute_reply": "2023-07-17T16:55:00.687006Z"
    },
    "papermill": {
     "duration": 0.091156,
     "end_time": "2023-07-17T16:55:00.690017",
     "exception": false,
     "start_time": "2023-07-17T16:55:00.598861",
     "status": "completed"
    },
    "tags": []
   },
   "outputs": [
    {
     "data": {
      "text/html": [
       "<div>\n",
       "<style scoped>\n",
       "    .dataframe tbody tr th:only-of-type {\n",
       "        vertical-align: middle;\n",
       "    }\n",
       "\n",
       "    .dataframe tbody tr th {\n",
       "        vertical-align: top;\n",
       "    }\n",
       "\n",
       "    .dataframe thead th {\n",
       "        text-align: right;\n",
       "    }\n",
       "</style>\n",
       "<table border=\"1\" class=\"dataframe\">\n",
       "  <thead>\n",
       "    <tr style=\"text-align: right;\">\n",
       "      <th></th>\n",
       "      <th>image_name</th>\n",
       "      <th>tags</th>\n",
       "    </tr>\n",
       "  </thead>\n",
       "  <tbody>\n",
       "    <tr>\n",
       "      <th>0</th>\n",
       "      <td>train_0</td>\n",
       "      <td>haze primary</td>\n",
       "    </tr>\n",
       "    <tr>\n",
       "      <th>1</th>\n",
       "      <td>train_1</td>\n",
       "      <td>agriculture clear primary water</td>\n",
       "    </tr>\n",
       "    <tr>\n",
       "      <th>2</th>\n",
       "      <td>train_2</td>\n",
       "      <td>clear primary</td>\n",
       "    </tr>\n",
       "    <tr>\n",
       "      <th>3</th>\n",
       "      <td>train_3</td>\n",
       "      <td>clear primary</td>\n",
       "    </tr>\n",
       "    <tr>\n",
       "      <th>4</th>\n",
       "      <td>train_4</td>\n",
       "      <td>agriculture clear habitation primary road</td>\n",
       "    </tr>\n",
       "  </tbody>\n",
       "</table>\n",
       "</div>"
      ],
      "text/plain": [
       "  image_name                                       tags\n",
       "0    train_0                               haze primary\n",
       "1    train_1            agriculture clear primary water\n",
       "2    train_2                              clear primary\n",
       "3    train_3                              clear primary\n",
       "4    train_4  agriculture clear habitation primary road"
      ]
     },
     "execution_count": 3,
     "metadata": {},
     "output_type": "execute_result"
    }
   ],
   "source": [
    "train_label = pd.read_csv(\"/kaggle/input/planets-dataset/planet/planet/train_classes.csv\")\n",
    "train_label.head()"
   ]
  },
  {
   "cell_type": "code",
   "execution_count": 4,
   "id": "bc8a7f5e",
   "metadata": {
    "execution": {
     "iopub.execute_input": "2023-07-17T16:55:00.710277Z",
     "iopub.status.busy": "2023-07-17T16:55:00.708860Z",
     "iopub.status.idle": "2023-07-17T16:55:00.772930Z",
     "shell.execute_reply": "2023-07-17T16:55:00.771929Z"
    },
    "papermill": {
     "duration": 0.076178,
     "end_time": "2023-07-17T16:55:00.775208",
     "exception": false,
     "start_time": "2023-07-17T16:55:00.699030",
     "status": "completed"
    },
    "tags": []
   },
   "outputs": [
    {
     "name": "stdout",
     "output_type": "stream",
     "text": [
      "['haze', 'road', 'clear', 'cloudy', 'partly_cloudy', 'habitation', 'blow_down', 'water', 'agriculture', 'slash_burn', 'selective_logging', 'primary', 'cultivation', 'conventional_mine', 'bare_ground', 'artisinal_mine', 'blooming']\n"
     ]
    }
   ],
   "source": [
    "labels = set()\n",
    "def splitting_tags(tags):\n",
    "    '''\n",
    "    Takes in tags column, splits the tags and store as a set\n",
    "    '''\n",
    "    [labels.add(tag) for tag in tags.split()]\n",
    "    \n",
    "# Create a copy of train_label\n",
    "train = train_label.copy()\n",
    "train['tags'].apply(splitting_tags)\n",
    "labels = list(labels)\n",
    "print(labels)"
   ]
  },
  {
   "cell_type": "code",
   "execution_count": 5,
   "id": "e89ea29b",
   "metadata": {
    "execution": {
     "iopub.execute_input": "2023-07-17T16:55:00.794748Z",
     "iopub.status.busy": "2023-07-17T16:55:00.793867Z",
     "iopub.status.idle": "2023-07-17T16:55:01.445127Z",
     "shell.execute_reply": "2023-07-17T16:55:01.444038Z"
    },
    "papermill": {
     "duration": 0.663929,
     "end_time": "2023-07-17T16:55:01.448115",
     "exception": false,
     "start_time": "2023-07-17T16:55:00.784186",
     "status": "completed"
    },
    "tags": []
   },
   "outputs": [
    {
     "data": {
      "text/html": [
       "<div>\n",
       "<style scoped>\n",
       "    .dataframe tbody tr th:only-of-type {\n",
       "        vertical-align: middle;\n",
       "    }\n",
       "\n",
       "    .dataframe tbody tr th {\n",
       "        vertical-align: top;\n",
       "    }\n",
       "\n",
       "    .dataframe thead th {\n",
       "        text-align: right;\n",
       "    }\n",
       "</style>\n",
       "<table border=\"1\" class=\"dataframe\">\n",
       "  <thead>\n",
       "    <tr style=\"text-align: right;\">\n",
       "      <th></th>\n",
       "      <th>image_name</th>\n",
       "      <th>tags</th>\n",
       "      <th>haze</th>\n",
       "      <th>road</th>\n",
       "      <th>clear</th>\n",
       "      <th>cloudy</th>\n",
       "      <th>partly_cloudy</th>\n",
       "      <th>habitation</th>\n",
       "      <th>blow_down</th>\n",
       "      <th>water</th>\n",
       "      <th>agriculture</th>\n",
       "      <th>slash_burn</th>\n",
       "      <th>selective_logging</th>\n",
       "      <th>primary</th>\n",
       "      <th>cultivation</th>\n",
       "      <th>conventional_mine</th>\n",
       "      <th>bare_ground</th>\n",
       "      <th>artisinal_mine</th>\n",
       "      <th>blooming</th>\n",
       "    </tr>\n",
       "  </thead>\n",
       "  <tbody>\n",
       "    <tr>\n",
       "      <th>0</th>\n",
       "      <td>train_0.jpg</td>\n",
       "      <td>haze primary</td>\n",
       "      <td>1</td>\n",
       "      <td>0</td>\n",
       "      <td>0</td>\n",
       "      <td>0</td>\n",
       "      <td>0</td>\n",
       "      <td>0</td>\n",
       "      <td>0</td>\n",
       "      <td>0</td>\n",
       "      <td>0</td>\n",
       "      <td>0</td>\n",
       "      <td>0</td>\n",
       "      <td>1</td>\n",
       "      <td>0</td>\n",
       "      <td>0</td>\n",
       "      <td>0</td>\n",
       "      <td>0</td>\n",
       "      <td>0</td>\n",
       "    </tr>\n",
       "    <tr>\n",
       "      <th>1</th>\n",
       "      <td>train_1.jpg</td>\n",
       "      <td>agriculture clear primary water</td>\n",
       "      <td>0</td>\n",
       "      <td>0</td>\n",
       "      <td>1</td>\n",
       "      <td>0</td>\n",
       "      <td>0</td>\n",
       "      <td>0</td>\n",
       "      <td>0</td>\n",
       "      <td>1</td>\n",
       "      <td>1</td>\n",
       "      <td>0</td>\n",
       "      <td>0</td>\n",
       "      <td>1</td>\n",
       "      <td>0</td>\n",
       "      <td>0</td>\n",
       "      <td>0</td>\n",
       "      <td>0</td>\n",
       "      <td>0</td>\n",
       "    </tr>\n",
       "    <tr>\n",
       "      <th>2</th>\n",
       "      <td>train_2.jpg</td>\n",
       "      <td>clear primary</td>\n",
       "      <td>0</td>\n",
       "      <td>0</td>\n",
       "      <td>1</td>\n",
       "      <td>0</td>\n",
       "      <td>0</td>\n",
       "      <td>0</td>\n",
       "      <td>0</td>\n",
       "      <td>0</td>\n",
       "      <td>0</td>\n",
       "      <td>0</td>\n",
       "      <td>0</td>\n",
       "      <td>1</td>\n",
       "      <td>0</td>\n",
       "      <td>0</td>\n",
       "      <td>0</td>\n",
       "      <td>0</td>\n",
       "      <td>0</td>\n",
       "    </tr>\n",
       "    <tr>\n",
       "      <th>3</th>\n",
       "      <td>train_3.jpg</td>\n",
       "      <td>clear primary</td>\n",
       "      <td>0</td>\n",
       "      <td>0</td>\n",
       "      <td>1</td>\n",
       "      <td>0</td>\n",
       "      <td>0</td>\n",
       "      <td>0</td>\n",
       "      <td>0</td>\n",
       "      <td>0</td>\n",
       "      <td>0</td>\n",
       "      <td>0</td>\n",
       "      <td>0</td>\n",
       "      <td>1</td>\n",
       "      <td>0</td>\n",
       "      <td>0</td>\n",
       "      <td>0</td>\n",
       "      <td>0</td>\n",
       "      <td>0</td>\n",
       "    </tr>\n",
       "    <tr>\n",
       "      <th>4</th>\n",
       "      <td>train_4.jpg</td>\n",
       "      <td>agriculture clear habitation primary road</td>\n",
       "      <td>0</td>\n",
       "      <td>1</td>\n",
       "      <td>1</td>\n",
       "      <td>0</td>\n",
       "      <td>0</td>\n",
       "      <td>1</td>\n",
       "      <td>0</td>\n",
       "      <td>0</td>\n",
       "      <td>1</td>\n",
       "      <td>0</td>\n",
       "      <td>0</td>\n",
       "      <td>1</td>\n",
       "      <td>0</td>\n",
       "      <td>0</td>\n",
       "      <td>0</td>\n",
       "      <td>0</td>\n",
       "      <td>0</td>\n",
       "    </tr>\n",
       "  </tbody>\n",
       "</table>\n",
       "</div>"
      ],
      "text/plain": [
       "    image_name                                       tags  haze  road  clear  \\\n",
       "0  train_0.jpg                               haze primary     1     0      0   \n",
       "1  train_1.jpg            agriculture clear primary water     0     0      1   \n",
       "2  train_2.jpg                              clear primary     0     0      1   \n",
       "3  train_3.jpg                              clear primary     0     0      1   \n",
       "4  train_4.jpg  agriculture clear habitation primary road     0     1      1   \n",
       "\n",
       "   cloudy  partly_cloudy  habitation  blow_down  water  agriculture  \\\n",
       "0       0              0           0          0      0            0   \n",
       "1       0              0           0          0      1            1   \n",
       "2       0              0           0          0      0            0   \n",
       "3       0              0           0          0      0            0   \n",
       "4       0              0           1          0      0            1   \n",
       "\n",
       "   slash_burn  selective_logging  primary  cultivation  conventional_mine  \\\n",
       "0           0                  0        1            0                  0   \n",
       "1           0                  0        1            0                  0   \n",
       "2           0                  0        1            0                  0   \n",
       "3           0                  0        1            0                  0   \n",
       "4           0                  0        1            0                  0   \n",
       "\n",
       "   bare_ground  artisinal_mine  blooming  \n",
       "0            0               0         0  \n",
       "1            0               0         0  \n",
       "2            0               0         0  \n",
       "3            0               0         0  \n",
       "4            0               0         0  "
      ]
     },
     "execution_count": 5,
     "metadata": {},
     "output_type": "execute_result"
    }
   ],
   "source": [
    "##One hot encoding is performed on the labels in train classes \n",
    "\n",
    "for tag in labels:\n",
    "    train[tag] = train['tags'].apply(lambda x: 1 if tag in x.split() else 0)\n",
    "    \n",
    "## adding .jpg extension to the column image_name so as to have same name format as the image files\n",
    "train['image_name'] = train['image_name'].apply(lambda x: '{}.jpg'.format(x))\n",
    "train.head()"
   ]
  },
  {
   "cell_type": "code",
   "execution_count": 6,
   "id": "be404390",
   "metadata": {
    "execution": {
     "iopub.execute_input": "2023-07-17T16:55:01.468164Z",
     "iopub.status.busy": "2023-07-17T16:55:01.467868Z",
     "iopub.status.idle": "2023-07-17T16:55:01.473150Z",
     "shell.execute_reply": "2023-07-17T16:55:01.472275Z"
    },
    "papermill": {
     "duration": 0.017603,
     "end_time": "2023-07-17T16:55:01.475211",
     "exception": false,
     "start_time": "2023-07-17T16:55:01.457608",
     "status": "completed"
    },
    "tags": []
   },
   "outputs": [],
   "source": [
    "#importing libraries for training\n",
    "import tensorflow as tf\n",
    "from tensorflow.keras.models import Sequential\n",
    "from tensorflow.keras.layers import Dense, BatchNormalization, Conv2D, MaxPooling2D\n",
    "from tensorflow.keras.layers import Dropout, Flatten\n",
    "from tensorflow.keras.optimizers import Adam, SGD\n",
    "from tensorflow.keras.callbacks import EarlyStopping, ModelCheckpoint, TensorBoard\n",
    "from tensorflow.keras.preprocessing.image import ImageDataGenerator"
   ]
  },
  {
   "cell_type": "code",
   "execution_count": 7,
   "id": "b75daf7b",
   "metadata": {
    "execution": {
     "iopub.execute_input": "2023-07-17T16:55:01.494955Z",
     "iopub.status.busy": "2023-07-17T16:55:01.494427Z",
     "iopub.status.idle": "2023-07-17T16:55:01.498555Z",
     "shell.execute_reply": "2023-07-17T16:55:01.497695Z"
    },
    "papermill": {
     "duration": 0.016147,
     "end_time": "2023-07-17T16:55:01.500566",
     "exception": false,
     "start_time": "2023-07-17T16:55:01.484419",
     "status": "completed"
    },
    "tags": []
   },
   "outputs": [],
   "source": [
    "# Defining the columns,i.e the labels that were newly added to the train_classes via hot encoding.\n",
    "columns = list(train.columns[2:])"
   ]
  },
  {
   "cell_type": "code",
   "execution_count": 8,
   "id": "79804a3f",
   "metadata": {
    "execution": {
     "iopub.execute_input": "2023-07-17T16:55:01.520539Z",
     "iopub.status.busy": "2023-07-17T16:55:01.519919Z",
     "iopub.status.idle": "2023-07-17T16:55:01.527313Z",
     "shell.execute_reply": "2023-07-17T16:55:01.526335Z"
    },
    "papermill": {
     "duration": 0.019541,
     "end_time": "2023-07-17T16:55:01.529318",
     "exception": false,
     "start_time": "2023-07-17T16:55:01.509777",
     "status": "completed"
    },
    "tags": []
   },
   "outputs": [
    {
     "data": {
      "text/plain": [
       "['haze',\n",
       " 'road',\n",
       " 'clear',\n",
       " 'cloudy',\n",
       " 'partly_cloudy',\n",
       " 'habitation',\n",
       " 'blow_down',\n",
       " 'water',\n",
       " 'agriculture',\n",
       " 'slash_burn',\n",
       " 'selective_logging',\n",
       " 'primary',\n",
       " 'cultivation',\n",
       " 'conventional_mine',\n",
       " 'bare_ground',\n",
       " 'artisinal_mine',\n",
       " 'blooming']"
      ]
     },
     "execution_count": 8,
     "metadata": {},
     "output_type": "execute_result"
    }
   ],
   "source": [
    "columns"
   ]
  },
  {
   "cell_type": "code",
   "execution_count": 9,
   "id": "19da371e",
   "metadata": {
    "execution": {
     "iopub.execute_input": "2023-07-17T16:55:01.550089Z",
     "iopub.status.busy": "2023-07-17T16:55:01.548729Z",
     "iopub.status.idle": "2023-07-17T16:55:01.556198Z",
     "shell.execute_reply": "2023-07-17T16:55:01.555359Z"
    },
    "papermill": {
     "duration": 0.019617,
     "end_time": "2023-07-17T16:55:01.558170",
     "exception": false,
     "start_time": "2023-07-17T16:55:01.538553",
     "status": "completed"
    },
    "tags": []
   },
   "outputs": [],
   "source": [
    "def fbeta(y_true, y_pred, beta = 2, epsilon = 1e-4):\n",
    "    '''\n",
    "    Set y_true and y_pred\n",
    "\n",
    "    Args:\n",
    "        y_true: correct target values\n",
    "        Y_pred: predicted values returned by the classifer\n",
    "        beta = 2\n",
    "        epsilon= 1e-4\n",
    "        \n",
    "    Returns:\n",
    "        fbeta score\n",
    "    '''\n",
    "    \n",
    "    beta_squared = beta**2\n",
    "    \n",
    "    y_true = tf.cast(y_true, tf.float32)\n",
    "    y_pred = tf.cast(tf.greater(tf.cast(y_pred, tf.float32), tf.constant(0.5)), tf.float32)\n",
    "    \n",
    "    tp = tf.reduce_sum(y_true * y_pred, axis = 1)\n",
    "    fp = tf.reduce_sum(y_pred, axis = 1) - tp\n",
    "    fn = tf.reduce_sum(y_true, axis = 1) - tp\n",
    "    \n",
    "    precision = tp/(tp+fp+epsilon)\n",
    "    recall = tp/(tp+fn+epsilon)\n",
    "    \n",
    "    fb = (1+beta_squared)*precision*recall / (beta_squared*precision+recall+epsilon)\n",
    "    return fb"
   ]
  },
  {
   "cell_type": "code",
   "execution_count": 10,
   "id": "18c14e0b",
   "metadata": {
    "execution": {
     "iopub.execute_input": "2023-07-17T16:55:01.578399Z",
     "iopub.status.busy": "2023-07-17T16:55:01.577499Z",
     "iopub.status.idle": "2023-07-17T16:55:01.585352Z",
     "shell.execute_reply": "2023-07-17T16:55:01.584552Z"
    },
    "papermill": {
     "duration": 0.019929,
     "end_time": "2023-07-17T16:55:01.587360",
     "exception": false,
     "start_time": "2023-07-17T16:55:01.567431",
     "status": "completed"
    },
    "tags": []
   },
   "outputs": [],
   "source": [
    "def multi_label_acc(y_true, y_pred, epsilon = 1e-4):\n",
    "    '''\n",
    "    Retuns accuracy value for multi_label classification\n",
    "    \n",
    "    Set y_true and y_pred\n",
    "\n",
    "    Args:\n",
    "        y_true: correct target values\n",
    "        Y_pred: predicted values returned by the classifer\n",
    "        epsilon= 1e-4\n",
    "        \n",
    "    Returns:\n",
    "        Accuracy score\n",
    "    '''\n",
    "    y_true = tf.cast(y_true, tf.float32)\n",
    "    y_pred = tf.cast(tf.greater(tf.cast(y_pred, tf.float32), tf.constant(0.5)), tf.float32)\n",
    "    \n",
    "    tp = tf.reduce_sum(y_true * y_pred, axis = 1)\n",
    "    fp = tf.reduce_sum(y_pred, axis = 1) - tp\n",
    "    fn = tf.reduce_sum(y_true, axis = 1) - tp\n",
    "    \n",
    "    y_true = tf.cast(y_true, tf.bool)\n",
    "    y_pred = tf.cast(y_pred, tf.bool)\n",
    "        \n",
    "    tn = tf.reduce_sum(tf.cast(tf.logical_not(y_true), tf.float32)\n",
    "                       * tf.cast(tf.logical_not(y_pred), tf.float32), axis = 1)\n",
    "    \n",
    "    return (tp+tn)/(tp+tn+fp+fn+epsilon)"
   ]
  },
  {
   "cell_type": "code",
   "execution_count": 11,
   "id": "3f8a84ad",
   "metadata": {
    "execution": {
     "iopub.execute_input": "2023-07-17T16:55:01.607829Z",
     "iopub.status.busy": "2023-07-17T16:55:01.607216Z",
     "iopub.status.idle": "2023-07-17T16:55:01.618307Z",
     "shell.execute_reply": "2023-07-17T16:55:01.617456Z"
    },
    "papermill": {
     "duration": 0.023493,
     "end_time": "2023-07-17T16:55:01.620248",
     "exception": false,
     "start_time": "2023-07-17T16:55:01.596755",
     "status": "completed"
    },
    "tags": []
   },
   "outputs": [],
   "source": [
    "#defining our model\n",
    "def build_model():\n",
    "    model = Sequential()\n",
    "    model.add(BatchNormalization(input_shape=(128, 128, 3)))\n",
    "    model.add(Conv2D(32, kernel_size=(3, 3), padding='same', activation='relu'))\n",
    "    model.add(Conv2D(32, kernel_size=(3, 3), activation='relu'))\n",
    "    model.add(MaxPooling2D(pool_size=(2, 2)))\n",
    "    model.add(Dropout(0.2))\n",
    "\n",
    "    model.add(Conv2D(64, kernel_size=(3, 3), padding='same', activation='relu'))\n",
    "    model.add(Conv2D(64, kernel_size=(3, 3), activation='relu'))\n",
    "    model.add(MaxPooling2D(pool_size=(2, 2)))\n",
    "    model.add(Dropout(0.2))\n",
    "\n",
    "    model.add(Conv2D(128, kernel_size=(3, 3), padding='same', activation='relu'))\n",
    "    model.add(Conv2D(128, kernel_size=(3, 3), activation='relu'))\n",
    "    model.add(MaxPooling2D(pool_size=(2, 2)))\n",
    "    model.add(Dropout(0.2))\n",
    "\n",
    "    model.add(Conv2D(256, kernel_size=(3, 3), padding='same', activation='relu'))\n",
    "    model.add(Conv2D(256, kernel_size=(3, 3), activation='relu'))\n",
    "    model.add(MaxPooling2D(pool_size=(2, 2)))\n",
    "    model.add(Dropout(0.2))\n",
    "\n",
    "    model.add(Flatten())\n",
    "    model.add(Dense(512, activation='relu'))\n",
    "    model.add(Dropout(0.5))\n",
    "    model.add(Dense(17, activation='sigmoid'))\n",
    "\n",
    "    opt = Adam(lr=1e-4)\n",
    "    \n",
    "    # We need binary here, since categorical_crossentropy l1 norms the output before calculating loss.\n",
    "    model.compile(loss='binary_crossentropy',\n",
    "              optimizer=opt,\n",
    "              metrics=[multi_label_acc, fbeta])\n",
    "\n",
    "    return model"
   ]
  },
  {
   "cell_type": "code",
   "execution_count": 12,
   "id": "213b30e8",
   "metadata": {
    "execution": {
     "iopub.execute_input": "2023-07-17T16:55:01.640751Z",
     "iopub.status.busy": "2023-07-17T16:55:01.640141Z",
     "iopub.status.idle": "2023-07-17T16:55:01.644682Z",
     "shell.execute_reply": "2023-07-17T16:55:01.643744Z"
    },
    "papermill": {
     "duration": 0.016807,
     "end_time": "2023-07-17T16:55:01.646594",
     "exception": false,
     "start_time": "2023-07-17T16:55:01.629787",
     "status": "completed"
    },
    "tags": []
   },
   "outputs": [],
   "source": [
    "#modelcheckpoint is set to monitor the model using validation fbeta score and save the best only\n",
    "save_best_check_point = ModelCheckpoint(filepath = 'best_model.hdf5', \n",
    "                                        monitor = 'val_fbeta',\n",
    "                                        mode = 'max',\n",
    "                                        save_best_only = True,\n",
    "                                        save_weights_only = True)"
   ]
  },
  {
   "cell_type": "code",
   "execution_count": 13,
   "id": "87245b2e",
   "metadata": {
    "execution": {
     "iopub.execute_input": "2023-07-17T16:55:01.666878Z",
     "iopub.status.busy": "2023-07-17T16:55:01.666068Z",
     "iopub.status.idle": "2023-07-17T16:56:35.038942Z",
     "shell.execute_reply": "2023-07-17T16:56:35.038030Z"
    },
    "papermill": {
     "duration": 93.385488,
     "end_time": "2023-07-17T16:56:35.041300",
     "exception": false,
     "start_time": "2023-07-17T16:55:01.655812",
     "status": "completed"
    },
    "tags": []
   },
   "outputs": [
    {
     "name": "stdout",
     "output_type": "stream",
     "text": [
      "Found 32384 validated image filenames.\n",
      "Found 8095 validated image filenames.\n"
     ]
    }
   ],
   "source": [
    "#initializing imagedatagenerator with a validation split of 0.2\n",
    "train_image_gen = ImageDataGenerator(rescale = 1/255, validation_split = 0.2)\n",
    "\n",
    "#generating train data generator which is 80% of the train dataset\n",
    "#note that a generator contains both features and target of the data\n",
    "train_generator = train_image_gen.flow_from_dataframe(dataframe=train,\n",
    "                                                directory =\"/kaggle/input/planets-dataset/planet/planet/train-jpg\",  \n",
    "                                                x_col=\"image_name\", y_col=columns, subset=\"training\", \n",
    "                                                batch_size=16,seed=2021, shuffle=True, \n",
    "                                                class_mode=\"raw\", target_size=(128,128))\n",
    "\n",
    "#generating validation data which is expected to be 20% of the train dataset since validation split is 0.2\n",
    "val_generator = train_image_gen.flow_from_dataframe(dataframe=train,\n",
    "                                                directory =\"/kaggle/input/planets-dataset/planet/planet/train-jpg\",  \n",
    "                                                x_col=\"image_name\", y_col=columns, subset=\"validation\", \n",
    "                                                batch_size=16,seed=2021, shuffle=True, \n",
    "                                                class_mode=\"raw\", target_size=(128,128))"
   ]
  },
  {
   "cell_type": "code",
   "execution_count": 14,
   "id": "4ecaf3d5",
   "metadata": {
    "execution": {
     "iopub.execute_input": "2023-07-17T16:56:35.062460Z",
     "iopub.status.busy": "2023-07-17T16:56:35.062169Z",
     "iopub.status.idle": "2023-07-17T16:56:35.067001Z",
     "shell.execute_reply": "2023-07-17T16:56:35.065968Z"
    },
    "papermill": {
     "duration": 0.017746,
     "end_time": "2023-07-17T16:56:35.069362",
     "exception": false,
     "start_time": "2023-07-17T16:56:35.051616",
     "status": "completed"
    },
    "tags": []
   },
   "outputs": [],
   "source": [
    "import numpy as np\n",
    "#setting up step size for training and validation image data\n",
    "step_train_size = int(np.ceil(train_generator.samples / train_generator.batch_size))\n",
    "step_val_size = int(np.ceil(val_generator.samples / val_generator.batch_size))"
   ]
  },
  {
   "cell_type": "code",
   "execution_count": 15,
   "id": "07e1341e",
   "metadata": {
    "execution": {
     "iopub.execute_input": "2023-07-17T16:56:35.089323Z",
     "iopub.status.busy": "2023-07-17T16:56:35.089065Z",
     "iopub.status.idle": "2023-07-17T16:56:38.303133Z",
     "shell.execute_reply": "2023-07-17T16:56:38.297890Z"
    },
    "papermill": {
     "duration": 3.230782,
     "end_time": "2023-07-17T16:56:38.309555",
     "exception": false,
     "start_time": "2023-07-17T16:56:35.078773",
     "status": "completed"
    },
    "tags": []
   },
   "outputs": [],
   "source": [
    "#initialize the model\n",
    "model1 = build_model()"
   ]
  },
  {
   "cell_type": "code",
   "execution_count": 16,
   "id": "5b505168",
   "metadata": {
    "execution": {
     "iopub.execute_input": "2023-07-17T16:56:38.341799Z",
     "iopub.status.busy": "2023-07-17T16:56:38.338543Z",
     "iopub.status.idle": "2023-07-17T16:56:38.427316Z",
     "shell.execute_reply": "2023-07-17T16:56:38.426606Z"
    },
    "papermill": {
     "duration": 0.133049,
     "end_time": "2023-07-17T16:56:38.457880",
     "exception": false,
     "start_time": "2023-07-17T16:56:38.324831",
     "status": "completed"
    },
    "tags": []
   },
   "outputs": [
    {
     "name": "stdout",
     "output_type": "stream",
     "text": [
      "Model: \"sequential\"\n",
      "_________________________________________________________________\n",
      " Layer (type)                Output Shape              Param #   \n",
      "=================================================================\n",
      " batch_normalization (BatchN  (None, 128, 128, 3)      12        \n",
      " ormalization)                                                   \n",
      "                                                                 \n",
      " conv2d (Conv2D)             (None, 128, 128, 32)      896       \n",
      "                                                                 \n",
      " conv2d_1 (Conv2D)           (None, 126, 126, 32)      9248      \n",
      "                                                                 \n",
      " max_pooling2d (MaxPooling2D  (None, 63, 63, 32)       0         \n",
      " )                                                               \n",
      "                                                                 \n",
      " dropout (Dropout)           (None, 63, 63, 32)        0         \n",
      "                                                                 \n",
      " conv2d_2 (Conv2D)           (None, 63, 63, 64)        18496     \n",
      "                                                                 \n",
      " conv2d_3 (Conv2D)           (None, 61, 61, 64)        36928     \n",
      "                                                                 \n",
      " max_pooling2d_1 (MaxPooling  (None, 30, 30, 64)       0         \n",
      " 2D)                                                             \n",
      "                                                                 \n",
      " dropout_1 (Dropout)         (None, 30, 30, 64)        0         \n",
      "                                                                 \n",
      " conv2d_4 (Conv2D)           (None, 30, 30, 128)       73856     \n",
      "                                                                 \n",
      " conv2d_5 (Conv2D)           (None, 28, 28, 128)       147584    \n",
      "                                                                 \n",
      " max_pooling2d_2 (MaxPooling  (None, 14, 14, 128)      0         \n",
      " 2D)                                                             \n",
      "                                                                 \n",
      " dropout_2 (Dropout)         (None, 14, 14, 128)       0         \n",
      "                                                                 \n",
      " conv2d_6 (Conv2D)           (None, 14, 14, 256)       295168    \n",
      "                                                                 \n",
      " conv2d_7 (Conv2D)           (None, 12, 12, 256)       590080    \n",
      "                                                                 \n",
      " max_pooling2d_3 (MaxPooling  (None, 6, 6, 256)        0         \n",
      " 2D)                                                             \n",
      "                                                                 \n",
      " dropout_3 (Dropout)         (None, 6, 6, 256)         0         \n",
      "                                                                 \n",
      " flatten (Flatten)           (None, 9216)              0         \n",
      "                                                                 \n",
      " dense (Dense)               (None, 512)               4719104   \n",
      "                                                                 \n",
      " dropout_4 (Dropout)         (None, 512)               0         \n",
      "                                                                 \n",
      " dense_1 (Dense)             (None, 17)                8721      \n",
      "                                                                 \n",
      "=================================================================\n",
      "Total params: 5,900,093\n",
      "Trainable params: 5,900,087\n",
      "Non-trainable params: 6\n",
      "_________________________________________________________________\n"
     ]
    }
   ],
   "source": [
    "# Preview the model architecture\n",
    "model1.summary()"
   ]
  },
  {
   "cell_type": "code",
   "execution_count": 17,
   "id": "5c8adf5b",
   "metadata": {
    "execution": {
     "iopub.execute_input": "2023-07-17T16:56:38.486678Z",
     "iopub.status.busy": "2023-07-17T16:56:38.486376Z",
     "iopub.status.idle": "2023-07-17T17:45:11.029452Z",
     "shell.execute_reply": "2023-07-17T17:45:11.028577Z"
    },
    "papermill": {
     "duration": 2914.814242,
     "end_time": "2023-07-17T17:45:13.285787",
     "exception": false,
     "start_time": "2023-07-17T16:56:38.471545",
     "status": "completed"
    },
    "tags": []
   },
   "outputs": [
    {
     "name": "stdout",
     "output_type": "stream",
     "text": [
      "Epoch 1/25\n"
     ]
    },
    {
     "name": "stderr",
     "output_type": "stream",
     "text": [
      "2023-07-17 16:56:40.806499: E tensorflow/core/grappler/optimizers/meta_optimizer.cc:954] layout failed: INVALID_ARGUMENT: Size of values 0 does not match size of permutation 4 @ fanin shape insequential/dropout/dropout/SelectV2-2-TransposeNHWCToNCHW-LayoutOptimizer\n"
     ]
    },
    {
     "name": "stdout",
     "output_type": "stream",
     "text": [
      "2024/2024 [==============================] - 261s 123ms/step - loss: 0.2462 - multi_label_acc: 0.9076 - fbeta: 0.6526 - val_loss: 0.2559 - val_multi_label_acc: 0.9050 - val_fbeta: 0.6424\n",
      "Epoch 2/25\n",
      "2024/2024 [==============================] - 90s 45ms/step - loss: 0.2572 - multi_label_acc: 0.9052 - fbeta: 0.6430 - val_loss: 0.2557 - val_multi_label_acc: 0.9050 - val_fbeta: 0.6424\n",
      "Epoch 3/25\n",
      "2024/2024 [==============================] - 90s 44ms/step - loss: 0.2569 - multi_label_acc: 0.9052 - fbeta: 0.6430 - val_loss: 0.2558 - val_multi_label_acc: 0.9050 - val_fbeta: 0.6424\n",
      "Epoch 4/25\n",
      "2024/2024 [==============================] - 91s 45ms/step - loss: 0.2568 - multi_label_acc: 0.9052 - fbeta: 0.6430 - val_loss: 0.2560 - val_multi_label_acc: 0.9050 - val_fbeta: 0.6424\n",
      "Epoch 5/25\n",
      "2024/2024 [==============================] - 91s 45ms/step - loss: 0.2567 - multi_label_acc: 0.9052 - fbeta: 0.6430 - val_loss: 0.2561 - val_multi_label_acc: 0.9050 - val_fbeta: 0.6424\n",
      "Epoch 6/25\n",
      "2024/2024 [==============================] - 92s 46ms/step - loss: 0.2566 - multi_label_acc: 0.9052 - fbeta: 0.6430 - val_loss: 0.2560 - val_multi_label_acc: 0.9050 - val_fbeta: 0.6424\n",
      "Epoch 7/25\n",
      "2024/2024 [==============================] - 91s 45ms/step - loss: 0.2566 - multi_label_acc: 0.9052 - fbeta: 0.6430 - val_loss: 0.2560 - val_multi_label_acc: 0.9050 - val_fbeta: 0.6424\n",
      "Epoch 8/25\n",
      "2024/2024 [==============================] - 89s 44ms/step - loss: 0.2564 - multi_label_acc: 0.9052 - fbeta: 0.6430 - val_loss: 0.2564 - val_multi_label_acc: 0.9050 - val_fbeta: 0.6424\n",
      "Epoch 9/25\n",
      "2024/2024 [==============================] - 90s 44ms/step - loss: 0.2565 - multi_label_acc: 0.9052 - fbeta: 0.6430 - val_loss: 0.2558 - val_multi_label_acc: 0.9050 - val_fbeta: 0.6424\n",
      "Epoch 10/25\n",
      "2024/2024 [==============================] - 94s 46ms/step - loss: 0.2566 - multi_label_acc: 0.9052 - fbeta: 0.6430 - val_loss: 0.2557 - val_multi_label_acc: 0.9050 - val_fbeta: 0.6424\n",
      "Epoch 11/25\n",
      "2024/2024 [==============================] - 93s 46ms/step - loss: 0.2564 - multi_label_acc: 0.9052 - fbeta: 0.6430 - val_loss: 0.2559 - val_multi_label_acc: 0.9050 - val_fbeta: 0.6424\n",
      "Epoch 12/25\n",
      "2024/2024 [==============================] - 92s 45ms/step - loss: 0.2564 - multi_label_acc: 0.9052 - fbeta: 0.6430 - val_loss: 0.2558 - val_multi_label_acc: 0.9050 - val_fbeta: 0.6424\n",
      "Epoch 13/25\n",
      "2024/2024 [==============================] - 92s 45ms/step - loss: 0.2565 - multi_label_acc: 0.9052 - fbeta: 0.6430 - val_loss: 0.2558 - val_multi_label_acc: 0.9050 - val_fbeta: 0.6424\n",
      "Epoch 14/25\n",
      "2024/2024 [==============================] - 90s 45ms/step - loss: 0.2565 - multi_label_acc: 0.9052 - fbeta: 0.6430 - val_loss: 0.2557 - val_multi_label_acc: 0.9050 - val_fbeta: 0.6424\n",
      "Epoch 15/25\n",
      "2024/2024 [==============================] - 96s 47ms/step - loss: 0.2564 - multi_label_acc: 0.9052 - fbeta: 0.6430 - val_loss: 0.2558 - val_multi_label_acc: 0.9050 - val_fbeta: 0.6424\n",
      "Epoch 16/25\n",
      "2024/2024 [==============================] - 96s 47ms/step - loss: 0.2564 - multi_label_acc: 0.9052 - fbeta: 0.6430 - val_loss: 0.2559 - val_multi_label_acc: 0.9050 - val_fbeta: 0.6424\n",
      "Epoch 17/25\n",
      "2024/2024 [==============================] - 92s 46ms/step - loss: 0.2563 - multi_label_acc: 0.9052 - fbeta: 0.6430 - val_loss: 0.2560 - val_multi_label_acc: 0.9050 - val_fbeta: 0.6424\n",
      "Epoch 18/25\n",
      "2024/2024 [==============================] - 91s 45ms/step - loss: 0.2563 - multi_label_acc: 0.9052 - fbeta: 0.6430 - val_loss: 0.2558 - val_multi_label_acc: 0.9050 - val_fbeta: 0.6424\n",
      "Epoch 19/25\n",
      "2024/2024 [==============================] - 96s 47ms/step - loss: 0.2563 - multi_label_acc: 0.9052 - fbeta: 0.6430 - val_loss: 0.2557 - val_multi_label_acc: 0.9050 - val_fbeta: 0.6424\n",
      "Epoch 20/25\n",
      "2024/2024 [==============================] - 89s 44ms/step - loss: 0.2562 - multi_label_acc: 0.9052 - fbeta: 0.6430 - val_loss: 0.2557 - val_multi_label_acc: 0.9050 - val_fbeta: 0.6424\n",
      "Epoch 21/25\n",
      "2024/2024 [==============================] - 89s 44ms/step - loss: 0.2563 - multi_label_acc: 0.9052 - fbeta: 0.6430 - val_loss: 0.2557 - val_multi_label_acc: 0.9050 - val_fbeta: 0.6424\n",
      "Epoch 22/25\n",
      "2024/2024 [==============================] - 90s 44ms/step - loss: 0.2564 - multi_label_acc: 0.9052 - fbeta: 0.6430 - val_loss: 0.2557 - val_multi_label_acc: 0.9050 - val_fbeta: 0.6424\n",
      "Epoch 23/25\n",
      "2024/2024 [==============================] - 88s 44ms/step - loss: 0.2563 - multi_label_acc: 0.9052 - fbeta: 0.6430 - val_loss: 0.2558 - val_multi_label_acc: 0.9050 - val_fbeta: 0.6424\n",
      "Epoch 24/25\n",
      "2024/2024 [==============================] - 89s 44ms/step - loss: 0.2563 - multi_label_acc: 0.9052 - fbeta: 0.6430 - val_loss: 0.2558 - val_multi_label_acc: 0.9050 - val_fbeta: 0.6424\n",
      "Epoch 25/25\n",
      "2024/2024 [==============================] - 92s 45ms/step - loss: 0.2563 - multi_label_acc: 0.9052 - fbeta: 0.6430 - val_loss: 0.2560 - val_multi_label_acc: 0.9050 - val_fbeta: 0.6424\n"
     ]
    },
    {
     "data": {
      "text/plain": [
       "<keras.callbacks.History at 0x7b40fc7f0b80>"
      ]
     },
     "execution_count": 17,
     "metadata": {},
     "output_type": "execute_result"
    }
   ],
   "source": [
    "#fitting our model using the parameters already defined \n",
    "model1.fit(x = train_generator, \n",
    "           steps_per_epoch = step_train_size, \n",
    "           validation_data = val_generator, \n",
    "           validation_steps = step_val_size,epochs = 25, \n",
    "           callbacks=[save_best_check_point])"
   ]
  },
  {
   "cell_type": "code",
   "execution_count": 18,
   "id": "2aa8f258",
   "metadata": {
    "execution": {
     "iopub.execute_input": "2023-07-17T17:45:17.842999Z",
     "iopub.status.busy": "2023-07-17T17:45:17.842636Z",
     "iopub.status.idle": "2023-07-17T17:45:18.004770Z",
     "shell.execute_reply": "2023-07-17T17:45:18.003840Z"
    },
    "papermill": {
     "duration": 2.420633,
     "end_time": "2023-07-17T17:45:18.007210",
     "exception": false,
     "start_time": "2023-07-17T17:45:15.586577",
     "status": "completed"
    },
    "tags": []
   },
   "outputs": [],
   "source": [
    "#initializing a second model to make predictions\n",
    "model2 = build_model()"
   ]
  },
  {
   "cell_type": "code",
   "execution_count": 19,
   "id": "7942a0e0",
   "metadata": {
    "execution": {
     "iopub.execute_input": "2023-07-17T17:45:22.466832Z",
     "iopub.status.busy": "2023-07-17T17:45:22.466437Z",
     "iopub.status.idle": "2023-07-17T17:45:22.527320Z",
     "shell.execute_reply": "2023-07-17T17:45:22.526347Z"
    },
    "papermill": {
     "duration": 2.260927,
     "end_time": "2023-07-17T17:45:22.529954",
     "exception": false,
     "start_time": "2023-07-17T17:45:20.269027",
     "status": "completed"
    },
    "tags": []
   },
   "outputs": [],
   "source": [
    "#loading in the weights of the trained model\n",
    "model2.load_weights('best_model.hdf5')"
   ]
  },
  {
   "cell_type": "code",
   "execution_count": 20,
   "id": "629fd35d",
   "metadata": {
    "execution": {
     "iopub.execute_input": "2023-07-17T17:45:26.944407Z",
     "iopub.status.busy": "2023-07-17T17:45:26.943419Z",
     "iopub.status.idle": "2023-07-17T17:45:27.062427Z",
     "shell.execute_reply": "2023-07-17T17:45:27.061537Z"
    },
    "papermill": {
     "duration": 2.248191,
     "end_time": "2023-07-17T17:45:27.064536",
     "exception": false,
     "start_time": "2023-07-17T17:45:24.816345",
     "status": "completed"
    },
    "tags": []
   },
   "outputs": [
    {
     "data": {
      "text/html": [
       "<div>\n",
       "<style scoped>\n",
       "    .dataframe tbody tr th:only-of-type {\n",
       "        vertical-align: middle;\n",
       "    }\n",
       "\n",
       "    .dataframe tbody tr th {\n",
       "        vertical-align: top;\n",
       "    }\n",
       "\n",
       "    .dataframe thead th {\n",
       "        text-align: right;\n",
       "    }\n",
       "</style>\n",
       "<table border=\"1\" class=\"dataframe\">\n",
       "  <thead>\n",
       "    <tr style=\"text-align: right;\">\n",
       "      <th></th>\n",
       "      <th>image_name</th>\n",
       "      <th>tags</th>\n",
       "    </tr>\n",
       "  </thead>\n",
       "  <tbody>\n",
       "    <tr>\n",
       "      <th>0</th>\n",
       "      <td>test_0.jpg</td>\n",
       "      <td>primary clear agriculture road water</td>\n",
       "    </tr>\n",
       "    <tr>\n",
       "      <th>1</th>\n",
       "      <td>test_1.jpg</td>\n",
       "      <td>primary clear agriculture road water</td>\n",
       "    </tr>\n",
       "    <tr>\n",
       "      <th>2</th>\n",
       "      <td>test_2.jpg</td>\n",
       "      <td>primary clear agriculture road water</td>\n",
       "    </tr>\n",
       "    <tr>\n",
       "      <th>3</th>\n",
       "      <td>test_3.jpg</td>\n",
       "      <td>primary clear agriculture road water</td>\n",
       "    </tr>\n",
       "    <tr>\n",
       "      <th>4</th>\n",
       "      <td>test_4.jpg</td>\n",
       "      <td>primary clear agriculture road water</td>\n",
       "    </tr>\n",
       "  </tbody>\n",
       "</table>\n",
       "</div>"
      ],
      "text/plain": [
       "   image_name                                  tags\n",
       "0  test_0.jpg  primary clear agriculture road water\n",
       "1  test_1.jpg  primary clear agriculture road water\n",
       "2  test_2.jpg  primary clear agriculture road water\n",
       "3  test_3.jpg  primary clear agriculture road water\n",
       "4  test_4.jpg  primary clear agriculture road water"
      ]
     },
     "execution_count": 20,
     "metadata": {},
     "output_type": "execute_result"
    }
   ],
   "source": [
    "##adding .jpg extension to image name in the sample submission file\n",
    "sample_submission = pd.read_csv('/kaggle/input/planets-dataset/planet/planet/sample_submission.csv')\n",
    "sample_submission1 = sample_submission.copy()\n",
    "sample_submission1['image_name'] = sample_submission1['image_name'].apply(lambda x: '{}.jpg'.format(x))\n",
    "sample_submission1.head()"
   ]
  },
  {
   "cell_type": "code",
   "execution_count": 21,
   "id": "b0a43477",
   "metadata": {
    "execution": {
     "iopub.execute_input": "2023-07-17T17:45:31.626429Z",
     "iopub.status.busy": "2023-07-17T17:45:31.625490Z",
     "iopub.status.idle": "2023-07-17T17:45:31.641511Z",
     "shell.execute_reply": "2023-07-17T17:45:31.640533Z"
    },
    "papermill": {
     "duration": 2.291225,
     "end_time": "2023-07-17T17:45:31.643872",
     "exception": false,
     "start_time": "2023-07-17T17:45:29.352647",
     "status": "completed"
    },
    "tags": []
   },
   "outputs": [
    {
     "data": {
      "text/html": [
       "<div>\n",
       "<style scoped>\n",
       "    .dataframe tbody tr th:only-of-type {\n",
       "        vertical-align: middle;\n",
       "    }\n",
       "\n",
       "    .dataframe tbody tr th {\n",
       "        vertical-align: top;\n",
       "    }\n",
       "\n",
       "    .dataframe thead th {\n",
       "        text-align: right;\n",
       "    }\n",
       "</style>\n",
       "<table border=\"1\" class=\"dataframe\">\n",
       "  <thead>\n",
       "    <tr style=\"text-align: right;\">\n",
       "      <th></th>\n",
       "      <th>image_name</th>\n",
       "    </tr>\n",
       "  </thead>\n",
       "  <tbody>\n",
       "    <tr>\n",
       "      <th>0</th>\n",
       "      <td>test_0.jpg</td>\n",
       "    </tr>\n",
       "    <tr>\n",
       "      <th>1</th>\n",
       "      <td>test_1.jpg</td>\n",
       "    </tr>\n",
       "    <tr>\n",
       "      <th>2</th>\n",
       "      <td>test_2.jpg</td>\n",
       "    </tr>\n",
       "    <tr>\n",
       "      <th>3</th>\n",
       "      <td>test_3.jpg</td>\n",
       "    </tr>\n",
       "    <tr>\n",
       "      <th>4</th>\n",
       "      <td>test_4.jpg</td>\n",
       "    </tr>\n",
       "  </tbody>\n",
       "</table>\n",
       "</div>"
      ],
      "text/plain": [
       "   image_name\n",
       "0  test_0.jpg\n",
       "1  test_1.jpg\n",
       "2  test_2.jpg\n",
       "3  test_3.jpg\n",
       "4  test_4.jpg"
      ]
     },
     "execution_count": 21,
     "metadata": {},
     "output_type": "execute_result"
    }
   ],
   "source": [
    "# Divide the sample submission file into two splits,\n",
    "# first test_df which contains the first 40669 images \n",
    "test_df = sample_submission1.iloc[:40669]['image_name'].reset_index().drop('index', axis =1)\n",
    "test_df.head()"
   ]
  },
  {
   "cell_type": "code",
   "execution_count": 22,
   "id": "fdec93df",
   "metadata": {
    "execution": {
     "iopub.execute_input": "2023-07-17T17:45:36.534644Z",
     "iopub.status.busy": "2023-07-17T17:45:36.534235Z",
     "iopub.status.idle": "2023-07-17T17:47:01.641346Z",
     "shell.execute_reply": "2023-07-17T17:47:01.640315Z"
    },
    "papermill": {
     "duration": 89.676333,
     "end_time": "2023-07-17T17:47:03.845215",
     "exception": false,
     "start_time": "2023-07-17T17:45:34.168882",
     "status": "completed"
    },
    "tags": []
   },
   "outputs": [
    {
     "name": "stdout",
     "output_type": "stream",
     "text": [
      "Found 40669 validated image filenames.\n"
     ]
    }
   ],
   "source": [
    "#initialize imagedatagenerator for the test images and also rescaling\n",
    "test_image_gen = ImageDataGenerator(rescale = 1/255)\n",
    "\n",
    "\n",
    "#creating a generator for the images found in the first test image files\n",
    "test_generator = test_image_gen.flow_from_dataframe(dataframe=test_df, \n",
    "                                                directory=\"/kaggle/input/planets-dataset/planet/planet/test-jpg\", \n",
    "                                                x_col=\"image_name\", \n",
    "                                                y_col=None, \n",
    "                                                batch_size=16, \n",
    "                                                shuffle=False, \n",
    "                                                class_mode=None, \n",
    "                                                target_size=(128,128))\n",
    "\n",
    "step_test_size = int(np.ceil(test_generator.samples/test_generator.batch_size))\n",
    "\n"
   ]
  },
  {
   "cell_type": "code",
   "execution_count": 23,
   "id": "440dd699",
   "metadata": {
    "execution": {
     "iopub.execute_input": "2023-07-17T17:47:08.618194Z",
     "iopub.status.busy": "2023-07-17T17:47:08.617657Z",
     "iopub.status.idle": "2023-07-17T17:51:21.953289Z",
     "shell.execute_reply": "2023-07-17T17:51:21.952232Z"
    },
    "papermill": {
     "duration": 255.979829,
     "end_time": "2023-07-17T17:51:21.955956",
     "exception": false,
     "start_time": "2023-07-17T17:47:05.976127",
     "status": "completed"
    },
    "tags": []
   },
   "outputs": [
    {
     "name": "stdout",
     "output_type": "stream",
     "text": [
      "2542/2542 [==============================] - 252s 99ms/step\n"
     ]
    }
   ],
   "source": [
    "#first, we reset the test generator to avoid shuffling of index as we want it to be orderly\n",
    "test_generator.reset()\n",
    "pred = model2.predict(test_generator, steps = step_test_size, verbose = 1)"
   ]
  },
  {
   "cell_type": "code",
   "execution_count": 24,
   "id": "a1356757",
   "metadata": {
    "execution": {
     "iopub.execute_input": "2023-07-17T17:51:26.721861Z",
     "iopub.status.busy": "2023-07-17T17:51:26.721484Z",
     "iopub.status.idle": "2023-07-17T17:51:32.729597Z",
     "shell.execute_reply": "2023-07-17T17:51:32.728550Z"
    },
    "papermill": {
     "duration": 8.468169,
     "end_time": "2023-07-17T17:51:32.731753",
     "exception": false,
     "start_time": "2023-07-17T17:51:24.263584",
     "status": "completed"
    },
    "tags": []
   },
   "outputs": [
    {
     "data": {
      "text/html": [
       "<div>\n",
       "<style scoped>\n",
       "    .dataframe tbody tr th:only-of-type {\n",
       "        vertical-align: middle;\n",
       "    }\n",
       "\n",
       "    .dataframe tbody tr th {\n",
       "        vertical-align: top;\n",
       "    }\n",
       "\n",
       "    .dataframe thead th {\n",
       "        text-align: right;\n",
       "    }\n",
       "</style>\n",
       "<table border=\"1\" class=\"dataframe\">\n",
       "  <thead>\n",
       "    <tr style=\"text-align: right;\">\n",
       "      <th></th>\n",
       "      <th>image_name</th>\n",
       "      <th>tags</th>\n",
       "    </tr>\n",
       "  </thead>\n",
       "  <tbody>\n",
       "    <tr>\n",
       "      <th>0</th>\n",
       "      <td>test_0.jpg</td>\n",
       "      <td>clear primary</td>\n",
       "    </tr>\n",
       "    <tr>\n",
       "      <th>1</th>\n",
       "      <td>test_1.jpg</td>\n",
       "      <td>clear primary</td>\n",
       "    </tr>\n",
       "    <tr>\n",
       "      <th>2</th>\n",
       "      <td>test_2.jpg</td>\n",
       "      <td>clear primary</td>\n",
       "    </tr>\n",
       "    <tr>\n",
       "      <th>3</th>\n",
       "      <td>test_3.jpg</td>\n",
       "      <td>clear primary</td>\n",
       "    </tr>\n",
       "    <tr>\n",
       "      <th>4</th>\n",
       "      <td>test_4.jpg</td>\n",
       "      <td>clear primary</td>\n",
       "    </tr>\n",
       "  </tbody>\n",
       "</table>\n",
       "</div>"
      ],
      "text/plain": [
       "   image_name           tags\n",
       "0  test_0.jpg  clear primary\n",
       "1  test_1.jpg  clear primary\n",
       "2  test_2.jpg  clear primary\n",
       "3  test_3.jpg  clear primary\n",
       "4  test_4.jpg  clear primary"
      ]
     },
     "execution_count": 24,
     "metadata": {},
     "output_type": "execute_result"
    }
   ],
   "source": [
    "#this is to get the filenames in the generator using the attribute .filenames\n",
    "file_names = test_generator.filenames\n",
    "\n",
    "#convert the predicted values to a dataframe and join two labels together if the probability of occurrance \n",
    "#of the label is greater than 0.5 \n",
    "pred_tags = pd.DataFrame(pred)\n",
    "pred_tags = pred_tags.apply(lambda x: ' '.join(np.array(labels)[x>0.5]), axis = 1)\n",
    "\n",
    "#then the result should look like this \n",
    "result1 = pd.DataFrame({'image_name': file_names, 'tags': pred_tags})\n",
    "result1.head()"
   ]
  },
  {
   "cell_type": "code",
   "execution_count": 25,
   "id": "c061300d",
   "metadata": {
    "execution": {
     "iopub.execute_input": "2023-07-17T17:51:37.462311Z",
     "iopub.status.busy": "2023-07-17T17:51:37.461942Z",
     "iopub.status.idle": "2023-07-17T17:51:37.474156Z",
     "shell.execute_reply": "2023-07-17T17:51:37.473147Z"
    },
    "papermill": {
     "duration": 2.385944,
     "end_time": "2023-07-17T17:51:37.476374",
     "exception": false,
     "start_time": "2023-07-17T17:51:35.090430",
     "status": "completed"
    },
    "tags": []
   },
   "outputs": [
    {
     "data": {
      "text/html": [
       "<div>\n",
       "<style scoped>\n",
       "    .dataframe tbody tr th:only-of-type {\n",
       "        vertical-align: middle;\n",
       "    }\n",
       "\n",
       "    .dataframe tbody tr th {\n",
       "        vertical-align: top;\n",
       "    }\n",
       "\n",
       "    .dataframe thead th {\n",
       "        text-align: right;\n",
       "    }\n",
       "</style>\n",
       "<table border=\"1\" class=\"dataframe\">\n",
       "  <thead>\n",
       "    <tr style=\"text-align: right;\">\n",
       "      <th></th>\n",
       "      <th>image_name</th>\n",
       "    </tr>\n",
       "  </thead>\n",
       "  <tbody>\n",
       "    <tr>\n",
       "      <th>0</th>\n",
       "      <td>file_0.jpg</td>\n",
       "    </tr>\n",
       "    <tr>\n",
       "      <th>1</th>\n",
       "      <td>file_1.jpg</td>\n",
       "    </tr>\n",
       "    <tr>\n",
       "      <th>2</th>\n",
       "      <td>file_10.jpg</td>\n",
       "    </tr>\n",
       "    <tr>\n",
       "      <th>3</th>\n",
       "      <td>file_100.jpg</td>\n",
       "    </tr>\n",
       "    <tr>\n",
       "      <th>4</th>\n",
       "      <td>file_1000.jpg</td>\n",
       "    </tr>\n",
       "  </tbody>\n",
       "</table>\n",
       "</div>"
      ],
      "text/plain": [
       "      image_name\n",
       "0     file_0.jpg\n",
       "1     file_1.jpg\n",
       "2    file_10.jpg\n",
       "3   file_100.jpg\n",
       "4  file_1000.jpg"
      ]
     },
     "execution_count": 25,
     "metadata": {},
     "output_type": "execute_result"
    }
   ],
   "source": [
    "#additional test dataset\n",
    "add_test_df = sample_submission1.iloc[40669:]['image_name'].reset_index().drop('index', axis =1)\n",
    "add_test_df.head()"
   ]
  },
  {
   "cell_type": "code",
   "execution_count": 26,
   "id": "05bfa332",
   "metadata": {
    "execution": {
     "iopub.execute_input": "2023-07-17T17:51:42.321019Z",
     "iopub.status.busy": "2023-07-17T17:51:42.320649Z",
     "iopub.status.idle": "2023-07-17T17:52:26.032092Z",
     "shell.execute_reply": "2023-07-17T17:52:26.031153Z"
    },
    "papermill": {
     "duration": 48.520074,
     "end_time": "2023-07-17T17:52:28.507948",
     "exception": false,
     "start_time": "2023-07-17T17:51:39.987874",
     "status": "completed"
    },
    "tags": []
   },
   "outputs": [
    {
     "name": "stdout",
     "output_type": "stream",
     "text": [
      "Found 20522 validated image filenames.\n"
     ]
    }
   ],
   "source": [
    "\n",
    "#creating a generator for the additional test image files\n",
    "add_test_generator = test_image_gen.flow_from_dataframe(dataframe = add_test_df, \n",
    "                                                    directory =\"/kaggle/input/planets-dataset/test-jpg-additional/test-jpg-additional\", \n",
    "                                                    x_col=\"image_name\", \n",
    "                                                    y_col=None, \n",
    "                                                    batch_size=16, \n",
    "                                                    shuffle=False, \n",
    "                                                    class_mode=None, \n",
    "                                                    target_size=(128,128))\n",
    "\n",
    "\n",
    "step_test_size2 = int(np.ceil(add_test_generator.samples/add_test_generator.batch_size))"
   ]
  },
  {
   "cell_type": "code",
   "execution_count": 27,
   "id": "56560e58",
   "metadata": {
    "execution": {
     "iopub.execute_input": "2023-07-17T17:52:33.250935Z",
     "iopub.status.busy": "2023-07-17T17:52:33.250575Z",
     "iopub.status.idle": "2023-07-17T17:54:36.862423Z",
     "shell.execute_reply": "2023-07-17T17:54:36.861351Z"
    },
    "papermill": {
     "duration": 126.063945,
     "end_time": "2023-07-17T17:54:36.864986",
     "exception": false,
     "start_time": "2023-07-17T17:52:30.801041",
     "status": "completed"
    },
    "tags": []
   },
   "outputs": [
    {
     "name": "stdout",
     "output_type": "stream",
     "text": [
      "1283/1283 [==============================] - 123s 96ms/step\n"
     ]
    }
   ],
   "source": [
    "#we reset the generator to avoid shuffling, then make prediction on the generator\n",
    "add_test_generator.reset()\n",
    "add_pred = model2.predict(add_test_generator, steps = step_test_size2, verbose = 1)"
   ]
  },
  {
   "cell_type": "code",
   "execution_count": 28,
   "id": "ba6d6cac",
   "metadata": {
    "execution": {
     "iopub.execute_input": "2023-07-17T17:54:41.887165Z",
     "iopub.status.busy": "2023-07-17T17:54:41.886792Z",
     "iopub.status.idle": "2023-07-17T17:54:45.053670Z",
     "shell.execute_reply": "2023-07-17T17:54:45.052636Z"
    },
    "papermill": {
     "duration": 5.602397,
     "end_time": "2023-07-17T17:54:45.055979",
     "exception": false,
     "start_time": "2023-07-17T17:54:39.453582",
     "status": "completed"
    },
    "tags": []
   },
   "outputs": [
    {
     "data": {
      "text/html": [
       "<div>\n",
       "<style scoped>\n",
       "    .dataframe tbody tr th:only-of-type {\n",
       "        vertical-align: middle;\n",
       "    }\n",
       "\n",
       "    .dataframe tbody tr th {\n",
       "        vertical-align: top;\n",
       "    }\n",
       "\n",
       "    .dataframe thead th {\n",
       "        text-align: right;\n",
       "    }\n",
       "</style>\n",
       "<table border=\"1\" class=\"dataframe\">\n",
       "  <thead>\n",
       "    <tr style=\"text-align: right;\">\n",
       "      <th></th>\n",
       "      <th>image_name</th>\n",
       "      <th>tags</th>\n",
       "    </tr>\n",
       "  </thead>\n",
       "  <tbody>\n",
       "    <tr>\n",
       "      <th>0</th>\n",
       "      <td>file_0.jpg</td>\n",
       "      <td>clearprimary</td>\n",
       "    </tr>\n",
       "    <tr>\n",
       "      <th>1</th>\n",
       "      <td>file_1.jpg</td>\n",
       "      <td>clearprimary</td>\n",
       "    </tr>\n",
       "    <tr>\n",
       "      <th>2</th>\n",
       "      <td>file_10.jpg</td>\n",
       "      <td>clearprimary</td>\n",
       "    </tr>\n",
       "    <tr>\n",
       "      <th>3</th>\n",
       "      <td>file_100.jpg</td>\n",
       "      <td>clearprimary</td>\n",
       "    </tr>\n",
       "    <tr>\n",
       "      <th>4</th>\n",
       "      <td>file_1000.jpg</td>\n",
       "      <td>clearprimary</td>\n",
       "    </tr>\n",
       "  </tbody>\n",
       "</table>\n",
       "</div>"
      ],
      "text/plain": [
       "      image_name          tags\n",
       "0     file_0.jpg  clearprimary\n",
       "1     file_1.jpg  clearprimary\n",
       "2    file_10.jpg  clearprimary\n",
       "3   file_100.jpg  clearprimary\n",
       "4  file_1000.jpg  clearprimary"
      ]
     },
     "execution_count": 28,
     "metadata": {},
     "output_type": "execute_result"
    }
   ],
   "source": [
    "#this is to get the filenames in the generator using the attribute .filenames\n",
    "file_names = add_test_generator.filenames\n",
    "\n",
    "#convert the predicted values to a dataframe and join two labels together if the probability of occurrance \n",
    "#of the label is greater than 0.5\n",
    "add_pred_tags = pd.DataFrame(add_pred)\n",
    "add_pred_tags = add_pred_tags.apply(lambda x: ''.join(np.array(labels)[x>0.5]), axis = 1)\n",
    "\n",
    "#then the result should look like this\n",
    "result2 = pd.DataFrame({'image_name': file_names, 'tags': add_pred_tags})\n",
    "result2.head()"
   ]
  },
  {
   "cell_type": "code",
   "execution_count": 29,
   "id": "5ff8502c",
   "metadata": {
    "execution": {
     "iopub.execute_input": "2023-07-17T17:54:50.107610Z",
     "iopub.status.busy": "2023-07-17T17:54:50.107176Z",
     "iopub.status.idle": "2023-07-17T17:54:50.128743Z",
     "shell.execute_reply": "2023-07-17T17:54:50.126948Z"
    },
    "papermill": {
     "duration": 2.484228,
     "end_time": "2023-07-17T17:54:50.131614",
     "exception": false,
     "start_time": "2023-07-17T17:54:47.647386",
     "status": "completed"
    },
    "tags": []
   },
   "outputs": [
    {
     "name": "stdout",
     "output_type": "stream",
     "text": [
      "(61191, 2)\n"
     ]
    },
    {
     "data": {
      "text/html": [
       "<div>\n",
       "<style scoped>\n",
       "    .dataframe tbody tr th:only-of-type {\n",
       "        vertical-align: middle;\n",
       "    }\n",
       "\n",
       "    .dataframe tbody tr th {\n",
       "        vertical-align: top;\n",
       "    }\n",
       "\n",
       "    .dataframe thead th {\n",
       "        text-align: right;\n",
       "    }\n",
       "</style>\n",
       "<table border=\"1\" class=\"dataframe\">\n",
       "  <thead>\n",
       "    <tr style=\"text-align: right;\">\n",
       "      <th></th>\n",
       "      <th>image_name</th>\n",
       "      <th>tags</th>\n",
       "    </tr>\n",
       "  </thead>\n",
       "  <tbody>\n",
       "    <tr>\n",
       "      <th>0</th>\n",
       "      <td>test_0.jpg</td>\n",
       "      <td>clear primary</td>\n",
       "    </tr>\n",
       "    <tr>\n",
       "      <th>1</th>\n",
       "      <td>test_1.jpg</td>\n",
       "      <td>clear primary</td>\n",
       "    </tr>\n",
       "    <tr>\n",
       "      <th>2</th>\n",
       "      <td>test_2.jpg</td>\n",
       "      <td>clear primary</td>\n",
       "    </tr>\n",
       "    <tr>\n",
       "      <th>3</th>\n",
       "      <td>test_3.jpg</td>\n",
       "      <td>clear primary</td>\n",
       "    </tr>\n",
       "    <tr>\n",
       "      <th>4</th>\n",
       "      <td>test_4.jpg</td>\n",
       "      <td>clear primary</td>\n",
       "    </tr>\n",
       "  </tbody>\n",
       "</table>\n",
       "</div>"
      ],
      "text/plain": [
       "   image_name           tags\n",
       "0  test_0.jpg  clear primary\n",
       "1  test_1.jpg  clear primary\n",
       "2  test_2.jpg  clear primary\n",
       "3  test_3.jpg  clear primary\n",
       "4  test_4.jpg  clear primary"
      ]
     },
     "execution_count": 29,
     "metadata": {},
     "output_type": "execute_result"
    }
   ],
   "source": [
    "#for the final result of the predicted tags for the test images,\n",
    "# we need to concat the first and second results in \n",
    "#that order to avoid shuffling the index\n",
    "last_result = pd.concat([result1, result2])\n",
    "\n",
    "last_result = last_result.reset_index().drop('index', axis =1)\n",
    "\n",
    "print(last_result.shape)\n",
    "#print the final result\n",
    "last_result.head()"
   ]
  },
  {
   "cell_type": "code",
   "execution_count": 30,
   "id": "77e8534f",
   "metadata": {
    "execution": {
     "iopub.execute_input": "2023-07-17T17:54:55.154807Z",
     "iopub.status.busy": "2023-07-17T17:54:55.154409Z",
     "iopub.status.idle": "2023-07-17T17:54:55.187468Z",
     "shell.execute_reply": "2023-07-17T17:54:55.186388Z"
    },
    "papermill": {
     "duration": 2.598172,
     "end_time": "2023-07-17T17:54:55.190031",
     "exception": false,
     "start_time": "2023-07-17T17:54:52.591859",
     "status": "completed"
    },
    "tags": []
   },
   "outputs": [
    {
     "data": {
      "text/html": [
       "<div>\n",
       "<style scoped>\n",
       "    .dataframe tbody tr th:only-of-type {\n",
       "        vertical-align: middle;\n",
       "    }\n",
       "\n",
       "    .dataframe tbody tr th {\n",
       "        vertical-align: top;\n",
       "    }\n",
       "\n",
       "    .dataframe thead th {\n",
       "        text-align: right;\n",
       "    }\n",
       "</style>\n",
       "<table border=\"1\" class=\"dataframe\">\n",
       "  <thead>\n",
       "    <tr style=\"text-align: right;\">\n",
       "      <th></th>\n",
       "      <th>image_name</th>\n",
       "      <th>tags</th>\n",
       "    </tr>\n",
       "  </thead>\n",
       "  <tbody>\n",
       "    <tr>\n",
       "      <th>0</th>\n",
       "      <td>test_0</td>\n",
       "      <td>clear primary</td>\n",
       "    </tr>\n",
       "    <tr>\n",
       "      <th>1</th>\n",
       "      <td>test_1</td>\n",
       "      <td>clear primary</td>\n",
       "    </tr>\n",
       "    <tr>\n",
       "      <th>2</th>\n",
       "      <td>test_2</td>\n",
       "      <td>clear primary</td>\n",
       "    </tr>\n",
       "    <tr>\n",
       "      <th>3</th>\n",
       "      <td>test_3</td>\n",
       "      <td>clear primary</td>\n",
       "    </tr>\n",
       "    <tr>\n",
       "      <th>4</th>\n",
       "      <td>test_4</td>\n",
       "      <td>clear primary</td>\n",
       "    </tr>\n",
       "  </tbody>\n",
       "</table>\n",
       "</div>"
      ],
      "text/plain": [
       "  image_name           tags\n",
       "0     test_0  clear primary\n",
       "1     test_1  clear primary\n",
       "2     test_2  clear primary\n",
       "3     test_3  clear primary\n",
       "4     test_4  clear primary"
      ]
     },
     "execution_count": 30,
     "metadata": {},
     "output_type": "execute_result"
    }
   ],
   "source": [
    "#we need to remove the .jpg extension from the image_name of the\n",
    "# last_result because from the sample submission the \n",
    "#extension was not there, we added it for easy manipulation of the data.\n",
    "last_result['image_name'] = last_result['image_name'].apply(lambda x: x[:-4])\n",
    "last_result.head()"
   ]
  },
  {
   "cell_type": "code",
   "execution_count": 31,
   "id": "7a789033",
   "metadata": {
    "execution": {
     "iopub.execute_input": "2023-07-17T17:55:00.467866Z",
     "iopub.status.busy": "2023-07-17T17:55:00.467418Z",
     "iopub.status.idle": "2023-07-17T17:55:00.746672Z",
     "shell.execute_reply": "2023-07-17T17:55:00.745687Z"
    },
    "papermill": {
     "duration": 3.080241,
     "end_time": "2023-07-17T17:55:00.749445",
     "exception": false,
     "start_time": "2023-07-17T17:54:57.669204",
     "status": "completed"
    },
    "tags": []
   },
   "outputs": [],
   "source": [
    "# Finally, we save the result to a csv file using the .to_csv() \n",
    "# method and setting the index to false.\n",
    "last_result.to_csv('submission1.csv', index = False)"
   ]
  }
 ],
 "metadata": {
  "kernelspec": {
   "display_name": "Python 3",
   "language": "python",
   "name": "python3"
  },
  "language_info": {
   "codemirror_mode": {
    "name": "ipython",
    "version": 3
   },
   "file_extension": ".py",
   "mimetype": "text/x-python",
   "name": "python",
   "nbconvert_exporter": "python",
   "pygments_lexer": "ipython3",
   "version": "3.10.12"
  },
  "papermill": {
   "default_parameters": {},
   "duration": 3625.045712,
   "end_time": "2023-07-17T17:55:06.124250",
   "environment_variables": {},
   "exception": null,
   "input_path": "__notebook__.ipynb",
   "output_path": "__notebook__.ipynb",
   "parameters": {},
   "start_time": "2023-07-17T16:54:41.078538",
   "version": "2.4.0"
  }
 },
 "nbformat": 4,
 "nbformat_minor": 5
}
